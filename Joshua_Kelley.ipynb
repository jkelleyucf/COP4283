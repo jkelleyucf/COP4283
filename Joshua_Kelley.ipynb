{
  "nbformat": 4,
  "nbformat_minor": 0,
  "metadata": {
    "colab": {
      "name": "Joshua_Kelley.ipynb",
      "provenance": [],
      "authorship_tag": "ABX9TyPCq1lnr9B+xiqZXu3jUS2I"
    },
    "kernelspec": {
      "name": "python3",
      "display_name": "Python 3"
    },
    "language_info": {
      "name": "python"
    }
  },
  "cells": [
    {
      "cell_type": "code",
      "execution_count": 1,
      "metadata": {
        "colab": {
          "base_uri": "https://localhost:8080/"
        },
        "id": "9ENq3w07ir0v",
        "outputId": "43ee121c-bf45-479f-eb4a-7b9c3c72abfa"
      },
      "outputs": [
        {
          "output_type": "stream",
          "name": "stdout",
          "text": [
            "hello world\n"
          ]
        }
      ],
      "source": [
        "print(\"hello world\")"
      ]
    }
  ]
}